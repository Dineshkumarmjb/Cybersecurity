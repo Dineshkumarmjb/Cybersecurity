{
  "nbformat": 4,
  "nbformat_minor": 0,
  "metadata": {
    "colab": {
      "provenance": [],
      "gpuType": "T4"
    },
    "kernelspec": {
      "name": "python3",
      "display_name": "Python 3"
    },
    "language_info": {
      "name": "python"
    },
    "accelerator": "GPU"
  },
  "cells": [
    {
      "cell_type": "code",
      "source": [
        "from transformers import pipeline\n",
        "\n"
      ],
      "metadata": {
        "id": "9JKqX0X_zrrd"
      },
      "execution_count": null,
      "outputs": []
    },
    {
      "cell_type": "code",
      "source": [
        "# Initialize the pipeline with a pre-trained model\n",
        "nlp = pipeline('ner', model='CyberPeace-Institute/SecureBERT-NER')\n",
        "\n",
        "# Example security advisory text\n",
        "text = \"\"\"\n",
        "Cyberattacks are rampant across all industries. A report by Cybersecurity Ventures states that by the end of December 2031, a ransomware attack is expected to target a business every 2 seconds. From WannaCry in 2017 to REvil in 2021, IT enterprises are under immense pressure. With new malware variants discovered each day, businesses need to make sure their endpoints are secure by employing the right security controls\n",
        "In 2022 alone, the total number of global ransomware reports increased by 80% year-over-year, according to a report by ZScaler. If your business hasn't equipped itself with security controls that can work proactively and prevent evolving cyberattacks, it's high time to enhance your enterprise cybersecurity by downloading Endpoint Central, ManageEngine's UEM solution.\n",
        "\"\"\"\n",
        "\n",
        "# Use the pipeline to extract entities from the text\n",
        "entities = nlp(text)\n",
        "print (entities)\n",
        "\n",
        "# Filter the entities to get only the Identities\n",
        "Identities = [entity for entity in entities if entity['entity'] == 'B-IDTY' or entity['entity'] == 'I-IDTY']\n",
        "Security_team = [entity for entity in entities if entity['entity'] == 'I-SECTEAM' or entity['entity'] == 'B-SECTEAM']\n",
        "Tool = [entity for entity in entities if entity['entity'] == 'I-TOOL' or entity['entity'] == 'B-TOOL']\n",
        "Time = [entity for entity in entities if entity['entity'] == 'I-TIME' or entity['entity'] == 'B-TIME']\n",
        "Attack = [entity for entity in entities if entity['entity'] == 'I-ACT' or entity['entity'] == 'B-ACT']\n",
        "print(Identities)\n",
        "# Print the Identities\n",
        "for idty in Identities:\n",
        "    print(f\"AuthenticationIdentity: {idty['word']}\")\n",
        "\n",
        "for st in Security_team:\n",
        "    print(f\"Security Team: {st['word']}\")\n",
        "\n",
        "for tool in Tool:\n",
        "    print(f\"Tool: {tool['word']}\")\n",
        "\n",
        "for time in Time:\n",
        "    print(f\"Time: {time['word']}\")\n",
        "\n",
        "for attack in Attack:\n",
        "    print(f\"Attack: {attack['word']}\")"
      ],
      "metadata": {
        "colab": {
          "base_uri": "https://localhost:8080/"
        },
        "id": "tVw5AyFi9dWZ",
        "outputId": "8ad08a99-5af6-4d78-886b-0418722b4fd4"
      },
      "execution_count": null,
      "outputs": [
        {
          "output_type": "stream",
          "name": "stdout",
          "text": [
            "[{'entity': 'B-SECTEAM', 'score': 0.9110939, 'index': 14, 'word': 'ĠCybersecurity', 'start': 61, 'end': 74}, {'entity': 'I-SECTEAM', 'score': 0.86216486, 'index': 15, 'word': 'ĠVentures', 'start': 75, 'end': 83}, {'entity': 'B-TIME', 'score': 0.6094482, 'index': 20, 'word': 'Ġend', 'start': 103, 'end': 106}, {'entity': 'I-TIME', 'score': 0.875743, 'index': 21, 'word': 'Ġof', 'start': 107, 'end': 109}, {'entity': 'I-TIME', 'score': 0.87185466, 'index': 22, 'word': 'ĠDecember', 'start': 110, 'end': 118}, {'entity': 'I-TIME', 'score': 0.90690106, 'index': 23, 'word': 'Ġ20', 'start': 119, 'end': 121}, {'entity': 'I-TIME', 'score': 0.90705776, 'index': 24, 'word': '31', 'start': 121, 'end': 123}, {'entity': 'B-ACT', 'score': 0.92049015, 'index': 27, 'word': 'Ġransomware', 'start': 127, 'end': 137}, {'entity': 'I-ACT', 'score': 0.8462229, 'index': 28, 'word': 'Ġattack', 'start': 138, 'end': 144}, {'entity': 'B-ACT', 'score': 0.6255491, 'index': 40, 'word': 'ĠWannaCry', 'start': 200, 'end': 208}, {'entity': 'B-TIME', 'score': 0.7215899, 'index': 42, 'word': 'Ġ2017', 'start': 212, 'end': 216}, {'entity': 'B-ACT', 'score': 0.8695399, 'index': 44, 'word': 'ĠREvil', 'start': 220, 'end': 225}, {'entity': 'B-TIME', 'score': 0.79861915, 'index': 46, 'word': 'Ġ2021', 'start': 229, 'end': 233}, {'entity': 'B-IDTY', 'score': 0.6097329, 'index': 48, 'word': 'ĠIT', 'start': 235, 'end': 237}, {'entity': 'I-IDTY', 'score': 0.7740727, 'index': 49, 'word': 'Ġenterprises', 'start': 238, 'end': 249}, {'entity': 'B-IDTY', 'score': 0.6630238, 'index': 63, 'word': 'Ġbusinesses', 'start': 325, 'end': 335}, {'entity': 'B-TIME', 'score': 0.7451475, 'index': 80, 'word': 'Ġ2022', 'start': 425, 'end': 429}, {'entity': 'B-ACT', 'score': 0.51088977, 'index': 88, 'word': 'Ġransomware', 'start': 464, 'end': 474}, {'entity': 'B-SECTEAM', 'score': 0.91397554, 'index': 105, 'word': 'ĠZ', 'start': 541, 'end': 542}, {'entity': 'B-SECTEAM', 'score': 0.910794, 'index': 106, 'word': 'Scaler', 'start': 542, 'end': 548}, {'entity': 'B-TOOL', 'score': 0.7121113, 'index': 144, 'word': 'ĠU', 'start': 778, 'end': 779}, {'entity': 'B-TOOL', 'score': 0.6665494, 'index': 145, 'word': 'EM', 'start': 779, 'end': 781}]\n",
            "[{'entity': 'B-IDTY', 'score': 0.6097329, 'index': 48, 'word': 'ĠIT', 'start': 235, 'end': 237}, {'entity': 'I-IDTY', 'score': 0.7740727, 'index': 49, 'word': 'Ġenterprises', 'start': 238, 'end': 249}, {'entity': 'B-IDTY', 'score': 0.6630238, 'index': 63, 'word': 'Ġbusinesses', 'start': 325, 'end': 335}]\n",
            "AuthenticationIdentity: ĠIT\n",
            "AuthenticationIdentity: Ġenterprises\n",
            "AuthenticationIdentity: Ġbusinesses\n",
            "Security Team: ĠCybersecurity\n",
            "Security Team: ĠVentures\n",
            "Security Team: ĠZ\n",
            "Security Team: Scaler\n",
            "Tool: ĠU\n",
            "Tool: EM\n",
            "Time: Ġend\n",
            "Time: Ġof\n",
            "Time: ĠDecember\n",
            "Time: Ġ20\n",
            "Time: 31\n",
            "Time: Ġ2017\n",
            "Time: Ġ2021\n",
            "Time: Ġ2022\n",
            "Attack: Ġransomware\n",
            "Attack: Ġattack\n",
            "Attack: ĠWannaCry\n",
            "Attack: ĠREvil\n",
            "Attack: Ġransomware\n"
          ]
        }
      ]
    },
    {
      "cell_type": "code",
      "source": [
        "|"
      ],
      "metadata": {
        "id": "N1tzH1NR_u9p"
      },
      "execution_count": null,
      "outputs": []
    }
  ]
}